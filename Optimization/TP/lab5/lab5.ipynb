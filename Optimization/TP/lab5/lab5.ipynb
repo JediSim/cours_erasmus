{
  "cells": [
    {
      "cell_type": "markdown",
      "metadata": {
        "id": "eK4fQ2q-Xcx1"
      },
      "source": [
        "# Optimization techniques Lab. 5: Iterated local Search and Simulated Annealing\n",
        "## Introduction\n",
        "**Goal.** The goal of this lab is to compare the behavior of Iterated Local search (ILS) and Simulated Annealing on the knapsack 0/1 problem and/or on the Flowshop problem.\n",
        "\n",
        "**Getting started.** The following cells contain the implementation of the methods that we will use throughout this lab, together with utilities.\n",
        "\n",
        "## The Knapsack 0/1 problem\n",
        "The knapsack 0/1 problem is a combinatorial problem that works as follows.\n",
        "\n",
        "We have a bag with limited capacity L, and we have a set of items $I = {i_1, ..., i_N}$\n",
        "Each $i_j$ has a given volume $w_{i_j}$ and a value $v_{i_j}$.\n",
        "The goal of the optimization problem is to fill the bag with a combination of items $S$ such that the combination maximizes the total value contained by the bag while complaining with the constraint on the capacity.\n",
        "\n",
        "In this version of the knapsack problem we can either discard or carry (at most 1) item. Thus, the search space is $\\{0, 1\\}^{|I|}$.\n",
        "\n",
        "Since this is a maximization problem, we can turn it into a minimization problem by returning the opposite of the value.\n",
        "If a solution is not feasible (i.e., exceeds the maximum volume) the function will return a score of 0 (like an empty bag).\n",
        "\n",
        "## The Flowshop Problem\n",
        "The flow-shop problem is a scheduling problem, where $m$ machines execute $p$ processes. \n",
        "\n",
        "The order to execute the process is the same in every machine. However, machine $m_j$ can not execute the $p_i$ process before it is completed in the $m_{j-1}$ machine. \n",
        "\n",
        "The object is to minimize the makespan time which is the time between the start of the first process and the end of the last process. \n",
        "The $m$ machines execute the $p$ process in the same order. Hence, a solution $s$ is a vector that indicates the execution order.  "
      ]
    },
    {
      "cell_type": "code",
      "execution_count": 6,
      "metadata": {
        "id": "kttrGnJOBvhe"
      },
      "outputs": [],
      "source": [
        "import numpy as np\n",
        "from matplotlib import pyplot as plt\n",
        "\n",
        "class Knapsack_0_1:\n",
        "    \n",
        "    def __init__(self):\n",
        "        self._items = [\n",
        "            {'name': 'apple', 'value': 1, 'volume': 2},    \n",
        "            {'name': 'pear', 'value': 2, 'volume': 2},    \n",
        "            {'name': 'banana', 'value': 2, 'volume': 2},    \n",
        "            {'name': 'watermelon', 'value': 5, 'volume': 10},    \n",
        "            {'name': 'orange', 'value': 3, 'volume': 2},    \n",
        "            {'name': 'avocado', 'value': 3, 'volume': 2},    \n",
        "            {'name': 'blueberry', 'value': 3, 'volume': 1},    \n",
        "            {'name': 'coconut', 'value': 4, 'volume': 3},    \n",
        "            {'name': 'cherry', 'value': 2, 'volume': 1},    \n",
        "            {'name': 'apricot', 'value': 1, 'volume': 1},      \n",
        "        ]\n",
        "        self._BAG_CAPACITY = 10\n",
        "        self.history = []\n",
        "        self.values = []\n",
        "\n",
        "    def _get_value(self, solution):\n",
        "        cur_cap = self._BAG_CAPACITY\n",
        "        cur_val = 0\n",
        "        for i, v in enumerate(solution):\n",
        "            if v == 1:\n",
        "                cur_val += self._items[i]['value']\n",
        "                cur_cap -= self._items[i]['volume']\n",
        "            if cur_cap < 0:\n",
        "                return 0\n",
        "        return -cur_val\n",
        "\n",
        "    def __call__(self, solution):\n",
        "        value = self._get_value(solution)\n",
        "        self.history.append(solution)\n",
        "        self.values.append(value)\n",
        "        return value\n",
        "    \n",
        "    def trend(self):\n",
        "        plt.figure()\n",
        "        plt.plot(self.values)\n",
        "        plt.show()\n",
        "\n",
        "class Flowshop:\n",
        "    \n",
        "    def __init__(self, machine, process, processing_time = None):\n",
        "        self._items = [\n",
        "                        []   \n",
        "        ]\n",
        "        self.machine = machine\n",
        "        self.process = process\n",
        "        self.p = processing_time if not processing_time is None else np.random.randint(0, 20, size= (machine, process))\n",
        "\n",
        "        self.history = []\n",
        "        self.values = []\n",
        "\n",
        "    def _get_value(self, solution):\n",
        "        f = np.zeros((self.machine, self.process), dtype=int)\n",
        "        for m in range(self.machine):\n",
        "            for p in range(self.process):\n",
        "                sp = solution[p] #solution at p\n",
        "                spp = solution[p-1] if p>0 else None #solution at p-1 if exist\n",
        "                if m == 0 and p == 0:\n",
        "                    f[m,sp] = self.p[m, sp]\n",
        "                elif m == 0:\n",
        "                    f[m,sp] = f[m, spp] + self.p[m, sp]\n",
        "                elif p == 0:\n",
        "                    f[m,sp] = f[m-1, sp] + self.p[m, sp]\n",
        "                else:\n",
        "                    f[m,sp] = max(f[m-1, sp], f[m, spp]) + self.p[m, sp]\n",
        "        return max(f.flatten())\n",
        "\n",
        "    def __call__(self, solution):\n",
        "        value = self._get_value(solution)\n",
        "        self.history.append(solution)\n",
        "        self.values.append(value)\n",
        "        return value\n",
        "    \n",
        "    def trend(self):\n",
        "        plt.figure()\n",
        "        plt.plot(self.values)\n",
        "        plt.show()"
      ]
    },
    {
      "cell_type": "code",
      "execution_count": 16,
      "metadata": {
        "id": "hyHpT2yLjqsu"
      },
      "outputs": [],
      "source": [
        "from operator import index\n",
        "from random import randint\n",
        "\n",
        "def ils(f, x0, ls_max):\n",
        "    \"\"\"\n",
        "    Seeks for the minimum of the function by means of the Iterated local search algorithm.\n",
        "\n",
        "    :f: the function to optimize\n",
        "    :x0: the initial point\n",
        "    :ls_max: the max number of local search\n",
        "    \"\"\"\n",
        "\n",
        "    def perturbation(x, k):\n",
        "    # To be implemented\n",
        "        \"\"\"\n",
        "        Implementation of the perturbation function (K-opt move)\n",
        "        \"\"\"\n",
        "        for i in range(k):\n",
        "            index1, index2  = randint(0,len(x)-1), randint(0,len(x)-1)\n",
        "            x[index1], x[index2] = x[index2], x[index1]\n",
        "        return x\n",
        "\n",
        "\n",
        "    def acceptance_criterion(f, x, xs, k):\n",
        "        if f(xs) < f(x):\n",
        "            x = xs\n",
        "            k = 1\n",
        "        else:\n",
        "            k += 1\n",
        "        return x, k\n",
        "\n",
        "    def local_search(f, x):\n",
        "        # To be implemented\n",
        "        \"\"\"\n",
        "        implementation of the local search on the knapsack problem\n",
        "        \"\"\"\n",
        "        x[randint(0,len(x)-1)] = randint(0,1)\n",
        "        return x\n",
        "        \n",
        "\n",
        "    n = 0\n",
        "    x = np.array(x0, float)\n",
        "    best = x\n",
        "    bestval = f(x)\n",
        "    \n",
        "    i = 0\n",
        "    while i < ls_max:\n",
        "        xp = perturbation(x, i)\n",
        "        xs = local_search(f, xp)\n",
        "        x, i = acceptance_criterion(f, x, xs, i)\n",
        "        \n",
        "        # Store the best\n",
        "        curval = f(x)\n",
        "        if curval < bestval:\n",
        "            bestval = curval\n",
        "            best = x\n",
        "        print(\"Iteration: \", n, \"Best value: \", bestval)\n",
        "    return best\n",
        "\n",
        "def sa(f, x0, T, k, alpha):\n",
        "    \"\"\"\n",
        "    Seeks for the minimum of the function by means of the Simulated Annealing algorithm.\n",
        "\n",
        "    :f: the function to optimize\n",
        "    :x0: the initial point\n",
        "    :T: Initial high temperature\n",
        "    :k: Number of Iterations\n",
        "    \"\"\"\n",
        "    def random_neighbor(x, i):\n",
        "        \"\"\"\n",
        "        Generates and selects a random neighobor for the solution x.\n",
        "        \"\"\"\n",
        "        return x\n",
        "    \n",
        "    def acceptance(x, e, xp, ep):\n",
        "        \"\"\"\n",
        "        Returns the solution and fitness accepted between x and xp.\n",
        "        \"\"\"\n",
        "        return x, e\n",
        "\n",
        "    def update_temperature(T, alpha):\n",
        "        \"\"\"\n",
        "        Updates the temperature T and the parameter alpha.\n",
        "        \"\"\"\n",
        "        return T, alpha\n",
        "\n",
        "    x = np.array(x0)\n",
        "    for i in range(k):\n",
        "        e = f(x)\n",
        "        xp = random_neighbor(x, i)\n",
        "        ep = f(xp)\n",
        "        x, e = acceptance(x, e, xp, ep)\n",
        "        T, alpha = update_temperature(T, alpha)\n",
        "\n",
        "    return x, e"
      ]
    },
    {
      "cell_type": "markdown",
      "metadata": {
        "id": "B8swyFr8AYZx"
      },
      "source": [
        "# iterated Local Search\n",
        "---\n",
        "## Questions:\n",
        "- how does the starting point influence the search process?\n",
        "- how does the ls_max parameter affect the quality of the result?\n",
        "- how does the perturbation of the solutions affect:\n",
        "    - quality of the search?\n",
        "    - velocity of the search?"
      ]
    },
    {
      "cell_type": "code",
      "execution_count": 20,
      "metadata": {
        "id": "KNEsNnVYuzE0"
      },
      "outputs": [
        {
          "name": "stdout",
          "output_type": "stream",
          "text": [
            "Iteration:  0 Best value:  0\n",
            "Iteration:  0 Best value:  0\n",
            "Iteration:  0 Best value:  -2\n",
            "Iteration:  0 Best value:  -5\n",
            "Iteration:  0 Best value:  -5\n",
            "Iteration:  0 Best value:  -6\n",
            "Iteration:  0 Best value:  -6\n",
            "Iteration:  0 Best value:  -6\n",
            "Iteration:  0 Best value:  -6\n",
            "Iteration:  0 Best value:  -6\n"
          ]
        },
        {
          "data": {
            "image/png": "[encoded data removed]",
            "text/plain": [
              "<Figure size 640x480 with 1 Axes>"
            ]
          },
          "metadata": {},
          "output_type": "display_data"
        }
      ],
      "source": [
        "func = Knapsack_0_1()\n",
        "ils(func, [0] * len(func._items), 10)\n",
        "func.trend()"
      ]
    },
    {
      "cell_type": "markdown",
      "metadata": {
        "id": "dzw4lTn9A5MK"
      },
      "source": [
        "# Simulated Annealing Search\n",
        "---\n",
        "## Questions:\n",
        "- how does the starting point influence the search process?\n",
        "- how does the initial temperature affect the quality of the result?\n",
        "- how does the selection of the neighborhood affect:\n",
        "    - quality of the search?\n",
        "    - velocity of the search?\n",
        "- How does the acceptance policy influence the search?\n",
        "- How does the update of the temparture affect the search?"
      ]
    },
    {
      "cell_type": "code",
      "execution_count": null,
      "metadata": {
        "id": "jQBZkkzBvR3Z"
      },
      "outputs": [],
      "source": [
        "func = Knapsack_0_1()\n",
        "sa(func, [0] * len(func._items), 1, 1, 0.1)\n",
        "func.trend()"
      ]
    },
    {
      "cell_type": "markdown",
      "metadata": {
        "id": "npG3w0ikYH8p"
      },
      "source": [
        "Iterated local search, variable neighbor search, and simulated annealing are very similar optimization algorithms. \n",
        "Considering what was seen in this lab and the previous one, answer these questions:\n",
        " - Is there a \"more efficient\" algorithm?\n",
        " - How do the different parameters affect the search, and do they affect the choice of one algorithm to respect the others?"
      ]
    }
  ],
  "metadata": {
    "colab": {
      "collapsed_sections": [],
      "provenance": []
    },
    "kernelspec": {
      "display_name": "Python 3.10.5 64-bit",
      "language": "python",
      "name": "python3"
    },
    "language_info": {
      "codemirror_mode": {
        "name": "ipython",
        "version": 3
      },
      "file_extension": ".py",
      "mimetype": "text/x-python",
      "name": "python",
      "nbconvert_exporter": "python",
      "pygments_lexer": "ipython3",
      "version": "3.10.5"
    },
    "vscode": {
      "interpreter": {
        "hash": "e7370f93d1d0cde622a1f8e1c04877d8463912d04d973331ad4851f04de6915a"
      }
    }
  },
  "nbformat": 4,
  "nbformat_minor": 0
}
