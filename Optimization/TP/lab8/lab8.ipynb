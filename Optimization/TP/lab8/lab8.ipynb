{
  "cells": [
    {
      "cell_type": "markdown",
      "metadata": {
        "id": "wT6FY1O6LF_G"
      },
      "source": [
        "# Lab 8: Multi-objective optimization\n",
        "In this lab, we will study multi-objective optimization approaches.\n",
        "\n",
        "For this problem, we will use two problems as benchmarks:\n",
        "1. Kursawe's function: \n",
        "$\\underset{x}{min}\\begin{cases}f_1(x) &= \\sum_{i=1}^{n-1} \\left[-10e^{-0.2\\sqrt{x_i^2 + x_{i+1}^2}}\\right] \\\\ f_2(x) &= \\sum_{i=1}^n \\left[|x_i|^{0.8} + 5\\sin(x_i)^3\\right] \\\\\\end{cases}$ s.t. $x_i \\in [-5, 5]; i \\in [1,n]$\n",
        "2. Multiple-disk clutch brake optimization: This real world optimization problem consists in the optimization of 5 paramters concernining multiple-disk clutch brakes. The parameters are shown visually in the image below.\n",
        "![image.png](data:image/png;base64,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)\n",
        "\n",
        "(Image taken from Deb and Srinivasan, \"Innovization: Innovative Design Principles Through Optimization\")\n",
        "\n",
        "The goal of the optimization problem is to minimize two objectives: (i) minimization of mass (f1 in kg) of the brake system and (ii) minimization of stopping time (f2 in s).\n",
        "\n",
        "The remainder of this section contains the implementation of the benchmark functions and utility functions.\n",
        "\n",
        "For each of the exercises, perform multiple runs (with different random seeds) to reduce the effect of randomness on the results."
      ]
    },
    {
      "cell_type": "code",
      "execution_count": null,
      "metadata": {
        "id": "0JbC_LrmbmoH",
        "colab": {
          "base_uri": "https://localhost:8080/"
        },
        "outputId": "fe942b61-0e6d-4525-e1ef-f5bc08e1cdd5"
      },
      "outputs": [
        {
          "output_type": "stream",
          "name": "stdout",
          "text": [
            "Cloning into 'inspyred-repo'...\n",
            "remote: Enumerating objects: 673, done.\u001b[K\n",
            "remote: Counting objects: 100% (28/28), done.\u001b[K\n",
            "remote: Compressing objects: 100% (24/24), done.\u001b[K\n",
            "remote: Total 673 (delta 8), reused 15 (delta 4), pack-reused 645\u001b[K\n",
            "Receiving objects: 100% (673/673), 3.06 MiB | 33.02 MiB/s, done.\n",
            "Resolving deltas: 100% (345/345), done.\n"
          ]
        }
      ],
      "source": [
        "!git clone https://github.com/aarongarrett/inspyred.git inspyred-repo\n",
        "# Fix some issues in inspyred\n",
        "!sed -i '254,255d' inspyred-repo/inspyred/ec/ec.py\n",
        "!sed -i '254i \\ \\ \\ \\ \\ \\ \\ \\ return all([x == y for x, y in zip(self.candidate, other.candidate)])' inspyred-repo/inspyred/ec/ec.py\n",
        "!sed -i '107s/ind.candidate\\ ==\\ a.candidate/all(x\\ ==\\ y\\ for\\ x,\\ y\\ in\\ zip(ind.candidate,\\ a.candidate))/' inspyred-repo/inspyred/ec/archivers.py\n",
        "!mv inspyred-repo/inspyred .\n",
        "!touch __init__.py"
      ]
    },
    {
      "cell_type": "code",
      "execution_count": null,
      "metadata": {
        "id": "5x55yMCmLDtH"
      },
      "outputs": [],
      "source": [
        "#@markdown Implementation of benchmarks and utilites (double click to open)\n",
        "import copy\n",
        "import functools\n",
        "from pylab import *\n",
        "from inspyred import benchmarks \n",
        "from inspyred.ec.emo import NSGA2\n",
        "from inspyred.ec.emo import Pareto\n",
        "from numpy.random import RandomState\n",
        "from inspyred.ec.variators import mutator\n",
        "from inspyred.ec import EvolutionaryComputation\n",
        "from inspyred.ec import terminators, variators, replacers, selectors\n",
        "\n",
        "\n",
        "def choice_without_replacement(rng, n, size) :\n",
        "    result = set()\n",
        "    while len(result) < size :\n",
        "        result.add(rng.randint(0, n))\n",
        "    return result\n",
        "\n",
        "class NumpyRandomWrapper(RandomState):\n",
        "    def __init__(self, seed=None):\n",
        "        super(NumpyRandomWrapper, self).__init__(seed)\n",
        "        \n",
        "    def sample(self, population, k):\n",
        "        if isinstance(population, int) :\n",
        "            population = range(population)           \n",
        "        \n",
        "        return asarray([population[i] for i in \n",
        "                        choice_without_replacement(self, len(population), k)])\n",
        "        #return #self.choice(population, k, replace=False)\n",
        "        \n",
        "    def random(self):\n",
        "        return self.random_sample()\n",
        "    \n",
        "    def gauss(self, mu, sigma):\n",
        "        return self.normal(mu, sigma)\n",
        "    \n",
        "def initial_pop_observer(population, num_generations, num_evaluations, \n",
        "                         args):\n",
        "    if num_generations == 0 :\n",
        "        args[\"initial_pop_storage\"][\"individuals\"] = asarray([guy.candidate \n",
        "                                                 for guy in population]) \n",
        "        args[\"initial_pop_storage\"][\"fitnesses\"] = asarray([guy.fitness \n",
        "                                          for guy in population]) \n",
        "        \n",
        "def generator(random, args):\n",
        "    return asarray([random.uniform(args[\"pop_init_range\"][0],\n",
        "                                   args[\"pop_init_range\"][1]) \n",
        "                    for _ in range(args[\"num_vars\"])])\n",
        "\n",
        "def generator_wrapper(func):\n",
        "        @functools.wraps(func)\n",
        "        def _generator(random, args):\n",
        "            return asarray(func(random, args))\n",
        "        return _generator\n",
        "\n",
        "class CombinedObjectives(Pareto):\n",
        "    def __init__(self, pareto, args):\n",
        "        \"\"\" edit this function to change the way that multiple objectives\n",
        "        are combined into a single objective\n",
        "        \n",
        "        \"\"\"\n",
        "        \n",
        "        Pareto.__init__(self, pareto.values)\n",
        "        if \"fitness_weights\" in args :\n",
        "            weights = asarray(args[\"fitness_weights\"])\n",
        "        else : \n",
        "            weights = asarray([1 for _ in pareto.values])\n",
        "        \n",
        "        self.fitness = sum(asarray(pareto.values) * weights)\n",
        "        \n",
        "    def __lt__(self, other):\n",
        "        return self.fitness < other.fitness\n",
        "        \n",
        "def single_objective_evaluator(candidates, args):\n",
        "    problem = args[\"problem\"]\n",
        "    return [CombinedObjectives(fit,args) for fit in \n",
        "            problem.evaluator(candidates, args)]\n",
        "\n",
        "# parameters, see Deb 2006\n",
        "Delta_R = 20 # mm\n",
        "L_max = 30 # mm\n",
        "delta = 0.5 # mm\n",
        "p_max = 1 # MPa\n",
        "V_sr_max = 10 # m/s\n",
        "n = 250 # rpm\n",
        "mu = 0.5\n",
        "s = 1.5\n",
        "M_s = 40 # Nm\n",
        "omega = pi * n/30. # rad/s\n",
        "rho = 0.0000078 # kg/mm^3\n",
        "T_max = 15 # s\n",
        "M_f = 3 # Nm\n",
        "I_z = 55 # kg*m^2\n",
        "\n",
        "#possible values\n",
        "values = [arange(60,81,1), arange(90,111,1), arange(1.5,3.5, 0.5), \n",
        "          arange(600,1010,10), arange(2,10,1)] \n",
        "\n",
        "\n",
        "class DiskClutchBounder(object):    \n",
        "    def __call__(self, candidate, args):\n",
        "        closest = lambda target, index: min(values[index], \n",
        "                                            key=lambda x: abs(x-target))        \n",
        "        for i, c in enumerate(candidate):\n",
        "            candidate[i] = closest(c,i)\n",
        "        return candidate\n",
        "\n",
        "class ConstrainedPareto(Pareto):\n",
        "    def __init__(self, values=None, violations=None, ec_maximize=True):\n",
        "        Pareto.__init__(self, values)\n",
        "        self.violations = violations\n",
        "        self.ec_maximize=ec_maximize\n",
        "    \n",
        "    def __lt__(self, other):\n",
        "        if self.violations is None :\n",
        "            return Pareto.__lt__(self, other)\n",
        "        elif len(self.values) != len(other.values):\n",
        "            raise NotImplementedError\n",
        "        else:\n",
        "            if self.violations > other.violations :\n",
        "                # if self has more violations than other\n",
        "                # return true if EC is maximizing otherwise false \n",
        "                return (self.ec_maximize)\n",
        "            elif other.violations > self.violations :\n",
        "                # if other has more violations than self\n",
        "                # return true if EC is minimizing otherwise false  \n",
        "                return (not self.ec_maximize)\n",
        "            elif self.violations > 0 :\n",
        "                # if both equally infeasible (> 0) than cannot compare\n",
        "                return False\n",
        "            else :\n",
        "                # only consider regular dominance if both are feasible\n",
        "                not_worse = True\n",
        "                strictly_better = False \n",
        "                for x, y, m in zip(self.values, other.values, self.maximize):                    \n",
        "                    if m:\n",
        "                        if x > y:\n",
        "                            not_worse = False\n",
        "                        elif y > x:\n",
        "                            strictly_better = True\n",
        "                    else:\n",
        "                        if x < y:\n",
        "                            not_worse = False\n",
        "                        elif y < x:\n",
        "                            strictly_better = True\n",
        "            return not_worse and strictly_better\n",
        "\n",
        "class DiskClutchBrake(benchmarks.Benchmark):\n",
        "    \n",
        "    def __init__(self, constrained=False) : \n",
        "        benchmarks.Benchmark.__init__(self, 5, 2)\n",
        "        self.bounder = DiskClutchBounder()\n",
        "        self.maximize = False\n",
        "        self.constrained=constrained\n",
        "    \n",
        "    def generator(self, random, args):\n",
        "        return [random.sample(values[i],1)[0] for i in range(self.dimensions)]\n",
        "    \n",
        "    def evaluator(self, candidates, args):\n",
        "        fitness = []\n",
        "        for c in candidates:\n",
        "            f1 = pi * (c[1] ** 2 - c[0] ** 2) * c[2] * (c[4] + 1) * rho\n",
        "            \n",
        "            M_h = ( (2./3.) * mu * c[3] * c[4]  *\n",
        "                (c[1] ** 3 - c[0] ** 3) /\n",
        "                (c[1] ** 2 - c[0] ** 2) ) / 1000. # N*m\n",
        "            T = (I_z * omega) / (M_h + M_f)\n",
        "            \n",
        "            f2 = T            \n",
        "            \n",
        "            fitness.append(ConstrainedPareto([f1, f2],\n",
        "                                             self.constraint_function(c),\n",
        "                                             self.maximize))\n",
        "            \n",
        "        return fitness    \n",
        "\n",
        "    def constraint_function(self,candidate):\n",
        "        if not self.constrained :\n",
        "            return 0\n",
        "        \"\"\"Return the magnitude of constraint violations.\"\"\"\n",
        "        A = pi * (candidate[1] ** 2 - candidate[0] ** 2) # mm^2\n",
        "        p_rz = candidate[3]/A # N/mm^2\n",
        "        R_sr = ( (2./3.) * (candidate[1] ** 3 - candidate[0] ** 3) /\n",
        "                 (candidate[1] ** 2 - candidate[0] ** 2) )  # mm\n",
        "        V_sr = pi * R_sr * n / 30000. # m/s\n",
        "        \n",
        "        M_h = ( (2./3.) * mu * candidate[3] * candidate[4]  *\n",
        "                (candidate[1] ** 3 - candidate[0] ** 3) /\n",
        "                (candidate[1] ** 2 - candidate[0] ** 2) ) / 1000. # N*m\n",
        "        \n",
        "        T = (I_z * omega) / (M_h + M_f)\n",
        "        \n",
        "        violations = 0\n",
        "        #g_1\n",
        "        if (candidate[1] - candidate[0] - Delta_R) < 0 :\n",
        "            violations -= (candidate[1] - candidate[0] - Delta_R) \n",
        "        #g_2\n",
        "        if (L_max - (candidate[4] + 1)*(candidate[2] + delta)) < 0 :\n",
        "            violations -= (L_max - (candidate[4] + 1)*(candidate[2] + delta))\n",
        "        #g_3\n",
        "        if (p_max - p_rz) < 0 :\n",
        "            violations -= (p_max - p_rz)  \n",
        "        #g_4\n",
        "        if (p_max*V_sr_max - p_rz * V_sr) < 0 :\n",
        "            violations -= (p_max*V_sr_max - p_rz * V_sr)\n",
        "        #g_5\n",
        "        if (V_sr_max - V_sr) < 0 :\n",
        "            violations -= (V_sr_max - V_sr)\n",
        "        #g_6\n",
        "        if ( M_h - s * M_s) < 0 :\n",
        "            violations -= ( M_h - s * M_s) \n",
        "        #g_7\n",
        "        if ( T < 0 ) :\n",
        "            violations -= T\n",
        "        #g_8\n",
        "        if  (T_max - T) < 0 :\n",
        "            violations -= (T_max - T)\n",
        "\n",
        "        return violations\n",
        "    \n",
        "@mutator    \n",
        "def disk_clutch_brake_mutation(random, candidate, args):\n",
        "    mut_rate = args.setdefault('mutation_rate', 0.1)\n",
        "    bounder = args['_ec'].bounder\n",
        "    mutant = copy(candidate)\n",
        "    for i, m in enumerate(mutant):\n",
        "        if random.random() < mut_rate:\n",
        "            mutant[i] += random.gauss(0, (values[i][-1] - values[i][0]) / 10.0 )\n",
        "    mutant = bounder(mutant, args)\n",
        "    return mutant\n",
        "\n",
        "\n",
        "def run_nsga2(random, problem, display=False, num_vars=0, use_bounder=True,\n",
        "        variator=None, **kwargs) :\n",
        "    \"\"\" run NSGA2 on the given problem \"\"\"\n",
        "    \n",
        "    #create dictionaries to store data about initial population, and lines\n",
        "    initial_pop_storage = {}\n",
        " \n",
        "    algorithm = NSGA2(random)\n",
        "    algorithm.terminator = terminators.generation_termination \n",
        "    if variator is None :     \n",
        "        algorithm.variator = [variators.blend_crossover,\n",
        "                              variators.gaussian_mutation]\n",
        "    else :\n",
        "        algorithm.variator = variator\n",
        "    \n",
        "    kwargs[\"num_selected\"]=kwargs[\"pop_size\"]  \n",
        "    if use_bounder :\n",
        "        kwargs[\"bounder\"]=problem.bounder\n",
        "        \n",
        "    if \"pop_init_range\" in kwargs :\n",
        "        kwargs[\"generator\"]=generator\n",
        "    else :\n",
        "        kwargs[\"generator\"]=problem.generator\n",
        "    final_pop = algorithm.evolve(evaluator=problem.evaluator,  \n",
        "                          maximize=problem.maximize,\n",
        "                          initial_pop_storage=initial_pop_storage,\n",
        "                          num_vars=num_vars, \n",
        "                          **kwargs)         \n",
        "    \n",
        "    best_guy = final_pop[0].candidate[0:num_vars]\n",
        "    best_fitness = final_pop[0].fitness\n",
        "    #final_pop_fitnesses = asarray([guy.fitness for guy in algorithm.archive])\n",
        "    #final_pop_candidates = asarray([guy.candidate[0:num_vars] for guy in algorithm.archive])\n",
        "    final_pop_fitnesses = asarray([guy.fitness for guy in final_pop])\n",
        "    final_pop_candidates = asarray([guy.candidate[0:num_vars] for guy in final_pop])\n",
        "\n",
        "    return final_pop_candidates, final_pop_fitnesses\n",
        "\n",
        "def run_ga(random,problem, display=False, num_vars=0, \n",
        "           maximize=False, use_bounder=True, **kwargs) :\n",
        "    \"\"\" run a GA on the given problem \"\"\"\n",
        "    \n",
        "    #create dictionaries to store data about initial population, and lines\n",
        "    initial_pop_storage = {}\n",
        "    \n",
        "    algorithm = EvolutionaryComputation(random)\n",
        "    algorithm.terminator = terminators.generation_termination\n",
        "    algorithm.replacer = replacers.generational_replacement    \n",
        "    algorithm.variator = [variators.uniform_crossover, \n",
        "                          variators.gaussian_mutation]\n",
        "    algorithm.selector = selectors.tournament_selection\n",
        "    algorithm.observer = [initial_pop_observer]\n",
        "    \n",
        "    kwargs[\"num_selected\"]=kwargs[\"pop_size\"]  \n",
        "    if use_bounder :\n",
        "        kwargs[\"bounder\"]=problem.bounder\n",
        "    if \"pop_init_range\" in kwargs :\n",
        "        kwargs[\"generator\"]=generator\n",
        "    else :\n",
        "        kwargs[\"generator\"]=problem.generator\n",
        "    \n",
        "    kwargs[\"problem\"] = problem\n",
        "    final_pop = algorithm.evolve(evaluator=single_objective_evaluator,\n",
        "                                 maximize=problem.maximize,\n",
        "                                 initial_pop_storage=initial_pop_storage,\n",
        "                                 num_vars=num_vars, \n",
        "                                 **kwargs)                          \n",
        "\n",
        "    best_guy = final_pop[0].candidate\n",
        "    best_fitness = final_pop[0].fitness.fitness\n",
        "    final_pop_fitnesses = asarray([guy.fitness for guy in final_pop])\n",
        "    final_pop_candidates = asarray([guy.candidate for guy in final_pop])\n",
        "\n",
        "    return best_guy, best_fitness"
      ]
    },
    {
      "cell_type": "markdown",
      "metadata": {
        "id": "pq0EkrK0dWfl"
      },
      "source": [
        "# Exercise 1: Kursawe's function\n",
        "1. Weighted sum of the objectives: what's the influence of the weights on the output of the search process?\n",
        "\n",
        "  The weights are use to give more importance in one of the factor\n",
        "\n",
        "2. Using NSGA-II, plot the Pareto front of the solutions obtained during the optimization process.\n",
        "3. Compare the weighted-sum method with NSGA-II\n",
        "\n"
      ]
    },
    {
      "cell_type": "code",
      "execution_count": null,
      "metadata": {
        "id": "9ejPgCEAiDHu"
      },
      "outputs": [],
      "source": [
        "# Instantiate the problem\n",
        "problem = benchmarks.Kursawe(3)\n",
        "\n",
        "# Parameters for the GA\n",
        "args = {}\n",
        "args[\"pop_size\"] = 50  #@param\n",
        "args[\"max_generations\"] = 100 #@param"
      ]
    },
    {
      "cell_type": "markdown",
      "metadata": {
        "id": "_tjUz5n_iDif"
      },
      "source": [
        "## Weighted sum\n"
      ]
    },
    {
      "cell_type": "code",
      "execution_count": null,
      "metadata": {
        "id": "44_g1IR3cPwQ",
        "colab": {
          "base_uri": "https://localhost:8080/",
          "height": 319
        },
        "outputId": "54337eec-f022-422d-bd41-aef27637fb14"
      },
      "outputs": [
        {
          "output_type": "stream",
          "name": "stdout",
          "text": [
            "Best Individual [-1.457915166104582, -1.3833624215125746, -1.468303088111944]\n",
            "Best Fitness -11.965312350610372\n"
          ]
        },
        {
          "output_type": "execute_result",
          "data": {
            "text/plain": [
              "[<matplotlib.lines.Line2D at 0x7fde35a14b50>]"
            ]
          },
          "metadata": {},
          "execution_count": 28
        },
        {
          "output_type": "display_data",
          "data": {
            "text/plain": [
              "<Figure size 432x288 with 1 Axes>"
            ],
            "image/png": "[encoded data removed]"
          },
          "metadata": {
            "needs_background": "light"
          }
        }
      ],
      "source": [
        "args[\"fitness_weights\"] = [0.5, 0.5]  # Weights to tune for f1 and f2\n",
        "\n",
        "rng = NumpyRandomWrapper(0)  # Initialize a random number generator with a seed\n",
        "    \n",
        "best_individual, best_fitness = run_ga(\n",
        "    rng, problem, display=False, num_vars=3, **args\n",
        ")\n",
        "\n",
        "print(\"Best Individual\", best_individual)\n",
        "print(\"Best Fitness\", best_fitness)\n"
      ]
    },
    {
      "cell_type": "markdown",
      "metadata": {
        "id": "7eHankRWfl-2"
      },
      "source": [
        "## NSGA-II"
      ]
    },
    {
      "cell_type": "code",
      "execution_count": null,
      "metadata": {
        "id": "-ND9RPDffnyH",
        "colab": {
          "base_uri": "https://localhost:8080/",
          "height": 1000
        },
        "outputId": "e3fb3b6f-92f7-447c-f0ae-d61a3986b092"
      },
      "outputs": [
        {
          "output_type": "stream",
          "name": "stdout",
          "text": [
            "Final Population\n",
            " [[-1.41495966e+00 -1.57636991e+00 -1.45170862e+00]\n",
            " [-1.16473344e-02 -4.67584336e-03  4.56741867e-03]\n",
            " [-1.51122051e+00 -1.87612908e-04  3.94080916e-04]\n",
            " [-5.15291699e-01 -2.34710351e-03  4.38043692e-03]\n",
            " [-1.21159528e+00  5.87455888e-03 -7.36968291e-01]\n",
            " [-1.02216150e+00 -1.74867147e-03  6.31059384e-05]\n",
            " [-6.93604117e-01 -2.05181839e-03  3.70128662e-03]\n",
            " [-1.12712944e+00  5.96540796e-03 -1.02245304e+00]\n",
            " [-1.34069473e+00 -1.20254443e+00 -1.36771657e+00]\n",
            " [-1.34734507e+00 -1.12176999e+00 -1.36244586e+00]\n",
            " [-1.34194179e+00 -7.09414840e-03 -8.25741068e-04]\n",
            " [-1.17245390e+00 -7.63654987e-03 -1.19435551e+00]\n",
            " [-9.36680297e-01  3.39600636e-04  4.43008554e-05]\n",
            " [-1.21049968e+00 -1.16738550e-03 -1.02061901e+00]\n",
            " [-1.35117760e+00  1.46593154e-02 -1.33452806e+00]\n",
            " [-7.54464017e-01 -2.13157530e-03  4.51764449e-05]\n",
            " [-1.39342663e+00 -1.37135384e+00 -1.40080124e+00]\n",
            " [-9.04853587e-01  3.09589573e-04  7.63048402e-05]\n",
            " [-1.08643694e+00  3.57214153e-04  4.83284077e-05]\n",
            " [-8.04450056e-01  2.26608580e-03 -1.22107362e+00]\n",
            " [-8.37327890e-01  6.91345014e-04  7.09067172e-04]\n",
            " [-1.27167406e+00  3.55521746e-04  3.55726418e-05]\n",
            " [-1.37803544e+00 -1.36060978e+00 -1.30693218e+00]\n",
            " [-1.26617855e+00 -9.30104884e-01 -1.20073547e+00]\n",
            " [-1.19519949e+00 -8.88855561e-01 -1.26581639e+00]\n",
            " [-6.04981712e-01 -1.14077658e-02  5.79389135e-03]\n",
            " [-1.13090401e+00 -7.66780159e-03 -1.18488020e+00]\n",
            " [-1.24249248e+00 -1.42663484e-03 -1.20906342e+00]\n",
            " [-1.03693150e+00 -8.48865241e-03 -1.03035605e+00]\n",
            " [-1.11223189e+00  2.53078271e-04 -1.15715289e+00]\n",
            " [-1.12362052e+00  2.61690165e-04  6.27609287e-05]\n",
            " [-1.14239440e+00  2.66240142e-04 -9.55303732e-01]\n",
            " [-1.34603575e+00 -7.35716111e-01 -1.24196159e+00]\n",
            " [-8.07583613e-01 -6.82508747e-03 -6.35664068e-04]\n",
            " [-1.20853309e+00 -2.10147480e-03  6.33662698e-05]\n",
            " [-1.39954858e+00  2.31217789e-02 -1.42051878e+00]\n",
            " [-1.17529912e+00 -1.55153480e-04  4.14981203e-04]\n",
            " [-1.21994264e+00 -1.01472807e+00 -1.40376380e+00]\n",
            " [-1.34529187e+00 -1.33033444e+00 -1.27330037e+00]\n",
            " [-1.02953758e+00 -2.31098409e-03 -9.38350470e-01]\n",
            " [-1.35157630e+00  1.81039637e-02 -1.26976644e+00]\n",
            " [-1.38379441e+00 -1.44938753e+00 -1.41535246e+00]\n",
            " [-1.36911989e+00 -1.13355828e+00 -1.24397232e+00]\n",
            " [-1.40678537e+00  2.36000752e-02 -1.42719936e+00]\n",
            " [-1.40296984e+00 -1.46198952e+00 -1.45463702e+00]\n",
            " [-1.34075445e+00 -1.04936798e+00 -1.37313917e+00]\n",
            " [-1.32437540e+00 -9.10889071e-01 -1.23779879e+00]\n",
            " [-5.84011674e-01 -6.85680760e-04  3.64797586e-04]\n",
            " [-1.32900779e+00 -9.31339443e-01 -1.37751446e+00]\n",
            " [-1.38664555e+00 -7.11606531e-01 -1.26474488e+00]]\n",
            "\n",
            "Final Population Fitnesses\n",
            " [[-1.30607274e+01 -1.06079990e+01]\n",
            " [-1.99618655e+01  5.54632999e-02]\n",
            " [-1.73907032e+01 -3.57906875e+00]\n",
            " [-1.90107995e+01  1.08701349e-02]\n",
            " [-1.64775367e+01 -3.65436646e+00]\n",
            " [-1.81475978e+01 -2.08149069e+00]\n",
            " [-1.86962445e+01 -5.41826446e-01]\n",
            " [-1.61323325e+01 -4.65631119e+00]\n",
            " [-1.39226253e+01 -9.66528388e+00]\n",
            " [-1.40683839e+01 -9.32805895e+00]\n",
            " [-1.76318052e+01 -3.33123094e+00]\n",
            " [-1.57848213e+01 -5.62798938e+00]\n",
            " [-1.82909654e+01 -1.66307371e+00]\n",
            " [-1.60033895e+01 -5.00836539e+00]\n",
            " [-1.52892060e+01 -6.67698267e+00]\n",
            " [-1.85951304e+01 -8.00553076e-01]\n",
            " [-1.35203324e+01 -1.03628650e+01]\n",
            " [-1.83439602e+01 -1.50584536e+00]\n",
            " [-1.80462657e+01 -2.39478700e+00]\n",
            " [-1.63470425e+01 -3.99445620e+00]\n",
            " [-1.84560764e+01 -1.17609678e+00]\n",
            " [-1.77536067e+01 -3.14906018e+00]\n",
            " [-1.36457412e+01 -1.00924136e+01]\n",
            " [-1.46839351e+01 -7.65960222e+00]\n",
            " [-1.47630544e+01 -7.43349186e+00]\n",
            " [-1.88346246e+01 -2.06786119e-01]\n",
            " [-1.58657602e+01 -5.41047526e+00]\n",
            " [-1.56517402e+01 -5.97262554e+00]\n",
            " [-1.62646943e+01 -4.26643416e+00]\n",
            " [-1.59395570e+01 -5.22953966e+00]\n",
            " [-1.79868273e+01 -2.56582445e+00]\n",
            " [-1.62182550e+01 -4.40701096e+00]\n",
            " [-1.48503500e+01 -7.14211801e+00]\n",
            " [-1.84947741e+01 -1.02255586e+00]\n",
            " [-1.78486585e+01 -2.91701820e+00]\n",
            " [-1.50848333e+01 -6.93468933e+00]\n",
            " [-1.79043495e+01 -2.78835774e+00]\n",
            " [-1.43528179e+01 -8.50245261e+00]\n",
            " [-1.37686981e+01 -9.84253750e+00]\n",
            " [-1.64279557e+01 -3.78980286e+00]\n",
            " [-1.53882838e+01 -6.48138829e+00]\n",
            " [-1.33666497e+01 -1.04919255e+01]\n",
            " [-1.41502274e+01 -9.08479242e+00]\n",
            " [-1.50638311e+01 -6.95544800e+00]\n",
            " [-1.32881850e+01 -1.05878601e+01]\n",
            " [-1.41916930e+01 -8.99610956e+00]\n",
            " [-1.46045772e+01 -7.88035590e+00]\n",
            " [-1.88960565e+01 -1.83074601e-01]\n",
            " [-1.43992165e+01 -8.39315465e+00]\n",
            " [-1.48027446e+01 -7.21073595e+00]]\n"
          ]
        },
        {
          "output_type": "execute_result",
          "data": {
            "text/plain": [
              "[<matplotlib.lines.Line2D at 0x7fde356ebdc0>,\n",
              " <matplotlib.lines.Line2D at 0x7fde356eb940>]"
            ]
          },
          "metadata": {},
          "execution_count": 31
        },
        {
          "output_type": "display_data",
          "data": {
            "text/plain": [
              "<Figure size 432x288 with 1 Axes>"
            ],
            "image/png": "[encoded data removed]"
          },
          "metadata": {
            "needs_background": "light"
          }
        }
      ],
      "source": [
        "# parameters for NSGA-2\n",
        "rng = NumpyRandomWrapper(0)  # Initialize a random number generator with a seed\n",
        "    \n",
        "final_pop, final_pop_fitnesses = run_nsga2(\n",
        "    rng, problem, display=False, num_vars=3, **args\n",
        ")\n",
        "\n",
        "print(\"Final Population\\n\", final_pop)\n",
        "print()\n",
        "print(\"Final Population Fitnesses\\n\", final_pop_fitnesses)\n"
      ]
    },
    {
      "cell_type": "markdown",
      "metadata": {
        "id": "QRsPeqhLhK_I"
      },
      "source": [
        "# Exercise 2: Multi-disk clutch brake optimization\n",
        "1. Weighted sum of the objectives: what's the influence of the weights on the output of the search process?\n",
        "\n",
        "  like in the previous exercice\n",
        "\n",
        "2. Using NSGA-II, plot the Pareto front of the solutions obtained during the optimization process.\n",
        "3. Compare the weighted-sum method with NSGA-II\n"
      ]
    },
    {
      "cell_type": "markdown",
      "metadata": {
        "id": "1DTFWEkOrARy"
      },
      "source": []
    },
    {
      "cell_type": "code",
      "execution_count": null,
      "metadata": {
        "id": "MmQ5kc2ui6zC"
      },
      "outputs": [],
      "source": [
        "# parameters for NSGA-2\n",
        "args = {}\n",
        "args[\"pop_size\"] = 10 #@param\n",
        "args[\"max_generations\"] = 10 #@param\n",
        "args[\"variator\"] = [variators.blend_crossover,disk_clutch_brake_mutation]\n",
        "\n",
        "problem = DiskClutchBrake(False)  # Initialize the problem"
      ]
    },
    {
      "cell_type": "markdown",
      "metadata": {
        "id": "_ZiMNs93i7K6"
      },
      "source": [
        "## Weighted sum\n"
      ]
    },
    {
      "cell_type": "code",
      "execution_count": null,
      "metadata": {
        "id": "h75L9F7Zg3Aw",
        "colab": {
          "base_uri": "https://localhost:8080/"
        },
        "outputId": "559d939e-064f-4d58-92b7-48a357a2923d"
      },
      "outputs": [
        {
          "output_type": "stream",
          "name": "stdout",
          "text": [
            "Best Individual [74, 91, 1.5, 850, 9]\n",
            "Best Fitness 2.7676087763948045\n"
          ]
        }
      ],
      "source": [
        "args[\"fitness_weights\"] = [0.5, 0.5]  # Weights to tune for f1 and f2\n",
        "\n",
        "rng = NumpyRandomWrapper(0)  # Initialize a random number generator with a seed\n",
        "    \n",
        "best_individual, best_fitness = run_ga(\n",
        "    rng, problem, display=False, num_vars=5, **args\n",
        ")\n",
        "\n",
        "print(\"Best Individual\", best_individual)\n",
        "print(\"Best Fitness\", best_fitness)"
      ]
    },
    {
      "cell_type": "code",
      "execution_count": null,
      "metadata": {
        "id": "_cN9hTAGhprH",
        "colab": {
          "base_uri": "https://localhost:8080/",
          "height": 699
        },
        "outputId": "c82ab244-2823-4e05-e2d5-9041a0e33801"
      },
      "outputs": [
        {
          "output_type": "stream",
          "name": "stdout",
          "text": [
            "Final Population\n",
            " [[  76.    92.     1.5  950.     3. ]\n",
            " [  76.    93.     2.   980.     9. ]\n",
            " [  76.    90.     1.5  950.     4. ]\n",
            " [  79.    91.     2.   960.     5. ]\n",
            " [  80.    91.     2.   960.     4. ]\n",
            " [  76.    91.     1.5  950.     6. ]\n",
            " [  76.    90.     1.5  970.     8. ]\n",
            " [  76.    94.     1.5 1000.     8. ]\n",
            " [  76.    90.     1.5  950.     7. ]\n",
            " [  76.    91.     1.5  970.     7. ]]\n",
            "\n",
            "Final Population Fitnesses\n",
            " [[ 0.39520733 11.70058789]\n",
            " [ 1.40802413  3.82034863]\n",
            " [ 0.42711209  8.93935437]\n",
            " [ 0.59986827  6.94465517]\n",
            " [ 0.46092819  8.60223024]\n",
            " [ 0.64452758  5.9594678 ]\n",
            " [ 0.76880176  4.41952429]\n",
            " [ 1.0122777   4.18245613]\n",
            " [ 0.68337934  5.14930497]\n",
            " [ 0.73660295  5.01278485]]\n"
          ]
        },
        {
          "output_type": "execute_result",
          "data": {
            "text/plain": [
              "[<matplotlib.lines.Line2D at 0x7fde355f1c10>,\n",
              " <matplotlib.lines.Line2D at 0x7fde355f1d60>]"
            ]
          },
          "metadata": {},
          "execution_count": 39
        },
        {
          "output_type": "display_data",
          "data": {
            "text/plain": [
              "<Figure size 432x288 with 1 Axes>"
            ],
            "image/png": "[encoded data removed]"
          },
          "metadata": {
            "needs_background": "light"
          }
        }
      ],
      "source": [
        "# parameters for NSGA-2\n",
        "rng = NumpyRandomWrapper(0)  # Initialize a random number generator with a seed\n",
        "    \n",
        "final_pop, final_pop_fitnesses = run_nsga2(\n",
        "    rng, problem, display=False, num_vars=5, **args\n",
        ")\n",
        "\n",
        "print(\"Final Population\\n\", final_pop)\n",
        "print()\n",
        "print(\"Final Population Fitnesses\\n\", final_pop_fitnesses)\n",
        "plot(final_pop_fitnesses)"
      ]
    }
  ],
  "metadata": {
    "colab": {
      "provenance": []
    },
    "kernelspec": {
      "display_name": "Python 3.10.8 64-bit",
      "language": "python",
      "name": "python3"
    },
    "language_info": {
      "codemirror_mode": {
        "name": "ipython",
        "version": 3
      },
      "file_extension": ".py",
      "mimetype": "text/x-python",
      "name": "python",
      "nbconvert_exporter": "python",
      "pygments_lexer": "ipython3",
      "version": "3.10.8"
    },
    "vscode": {
      "interpreter": {
        "hash": "e7370f93d1d0cde622a1f8e1c04877d8463912d04d973331ad4851f04de6915a"
      }
    }
  },
  "nbformat": 4,
  "nbformat_minor": 0
}