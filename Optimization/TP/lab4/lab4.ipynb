{
  "cells": [
    {
      "cell_type": "markdown",
      "metadata": {
        "id": "eK4fQ2q-Xcx1"
      },
      "source": [
        "# Optimization techniques Lab. 4: (Reduced) Variable Neighborhood Search\n",
        "## Introduction\n",
        "**Goal.** The goal of this lab is to compare the behavior of VNS and RVNS on the knapsack 0/1 problem.\n",
        "\n",
        "**Getting started.** The following cells contain the implementation of the methods that we will use throughout this lab, together with utilities.\n",
        "\n",
        "## The Knapsack 0/1 problem\n",
        "The knapsack 0/1 problem is a combinatorial problem that works as follows.\n",
        "\n",
        "We have a bag with limited capacity L, and we have a set of items $I = {i_1, ..., i_N}$\n",
        "Each $i_j$ has a given volume $w_{i_j}$ and a value $v_{i_j}$.\n",
        "The goal of the optimization problem is to fill the bag with a combination of items $S$ such that the combination maximizes the total value contained by the bag while complaining with the constraint on the capacity.\n",
        "\n",
        "In this version of the knapsack problem we can either discard or carry (at most 1) item. Thus, the search space is $\\{0, 1\\}^{|I|}$.\n",
        "\n",
        "Since this is a maximization problem, we can turn it into a minimization problem by returning the opposite of the value.\n",
        "If a solution is not feasible (i.e., exceeds the maximum volume) the function will return a score of 0 (like an empty bag)."
      ]
    },
    {
      "cell_type": "code",
      "execution_count": 19,
      "metadata": {
        "id": "kttrGnJOBvhe"
      },
      "outputs": [],
      "source": [
        "class Knapsack_0_1:\n",
        "    \n",
        "    def __init__(self):\n",
        "        self._items = [\n",
        "            {'name': 'apple', 'value': 1, 'volume': 2},    \n",
        "            {'name': 'pear', 'value': 2, 'volume': 2},    \n",
        "            {'name': 'banana', 'value': 2, 'volume': 2},    \n",
        "            {'name': 'watermelon', 'value': 5, 'volume': 10},    \n",
        "            {'name': 'orange', 'value': 3, 'volume': 2},    \n",
        "            {'name': 'avocado', 'value': 3, 'volume': 2},    \n",
        "            {'name': 'blueberry', 'value': 3, 'volume': 1},    \n",
        "            {'name': 'coconut', 'value': 4, 'volume': 3},    \n",
        "            {'name': 'cherry', 'value': 2, 'volume': 1},    \n",
        "            {'name': 'apricot', 'value': 1, 'volume': 1},    \n",
        "        ]\n",
        "        self._BAG_CAPACITY = 10\n",
        "        self.history = []\n",
        "        self.values = []\n",
        "\n",
        "    def _get_value(self, solution):\n",
        "        cur_cap = self._BAG_CAPACITY\n",
        "        cur_val = 0\n",
        "        for i, v in enumerate(solution):\n",
        "            if v == 1:\n",
        "                cur_val += self._items[i]['value']\n",
        "                cur_cap -= self._items[i]['volume']\n",
        "            if cur_cap < 0:\n",
        "                return 0\n",
        "        return -cur_val\n",
        "\n",
        "    def __call__(self, solution):\n",
        "        value = self._get_value(solution)\n",
        "        self.history.append(solution)\n",
        "        self.values.append(value)\n",
        "        return value\n",
        "    \n",
        "    def trend(self):\n",
        "        plt.figure()\n",
        "        plt.plot(self.values)\n",
        "        plt.show()"
      ]
    },
    {
      "cell_type": "code",
      "execution_count": 25,
      "metadata": {
        "id": "hyHpT2yLjqsu"
      },
      "outputs": [],
      "source": [
        "import numpy as np\n",
        "from matplotlib import pyplot as plt\n",
        "from random import randint\n",
        "\n",
        "\n",
        "def shake(x, k):\n",
        "    # To be implemented\n",
        "    tmp = x\n",
        "    for i in range(k):\n",
        "        tmp[i] = randint(0,1)\n",
        "    return tmp\n",
        "\n",
        "\n",
        "def move_or_not(f, x, xs, k):\n",
        "    if f(xs) < f(x):\n",
        "        x = xs\n",
        "        k = 1\n",
        "    else:\n",
        "        k += 1\n",
        "    return x, k\n",
        "\n",
        "def local_search(f, x):\n",
        "    # To be implemented\n",
        "    xPrim = x\n",
        "\n",
        "    while f(x) >= f(xPrim):\n",
        "        xPrim = x\n",
        "    return x\n",
        "\n",
        "\n",
        "def vns(f, x0, kmax):\n",
        "    \"\"\"\n",
        "    Seeks for the minimum of the function by means of the Variable Neighborhood\n",
        "    Search algorithm.\n",
        "\n",
        "    :f: the function to optimize\n",
        "    :x0: the initial point\n",
        "    :kmax: the max number of iterations for each neighborhood\n",
        "    \"\"\"\n",
        "    n = 0\n",
        "    x = np.array(x0, float)\n",
        "    best = x\n",
        "    bestval = f(x)\n",
        "    \n",
        "    k = 0\n",
        "    while k < kmax:\n",
        "        xp = shake(x, k)\n",
        "        xs = local_search(f, xp)\n",
        "        x, k = move_or_not(f, x, xs, k)\n",
        "        \n",
        "        # Store the best\n",
        "        curval = f(x)\n",
        "        if curval < bestval:\n",
        "            bestval = curval\n",
        "            best = x\n",
        "    return best\n",
        "    \n",
        "\n",
        "def rvns(f, x0, kmax):\n",
        "    \"\"\"\n",
        "    Seeks for the minimum of the function by means of the Reduced Variable\n",
        "    Neighborhood Search algorithm.\n",
        "\n",
        "    :f: the function to optimize\n",
        "    :x0: the initial point\n",
        "    :kmax: the max number of iterations for each neighborhood\n",
        "    \"\"\"\n",
        "    n = 0\n",
        "    x = np.array(x0, float)\n",
        "    best = x\n",
        "    bestval = f(x)\n",
        "    \n",
        "    k = 0\n",
        "    while k < kmax:\n",
        "        xp = shake(x, k)\n",
        "        x, k = move_or_not(f, x, xp, k)\n",
        "    return best\n",
        "    "
      ]
    },
    {
      "cell_type": "markdown",
      "metadata": {
        "id": "B8swyFr8AYZx"
      },
      "source": [
        "# Variable Neighborhood Search\n",
        "---\n",
        "## Questions:\n",
        "- how does the starting point influence the search process?\n",
        "- how does the kmax parameter affect the quality of the result?\n",
        "- how does the generation of the neighborhood affect:\n",
        "    - quality of the search?\n",
        "    - velocity of the search?"
      ]
    },
    {
      "cell_type": "code",
      "execution_count": 39,
      "metadata": {
        "id": "KNEsNnVYuzE0"
      },
      "outputs": [
        {
          "data": {
            "image/png": "[encoded data removed]",
            "text/plain": [
              "<Figure size 640x480 with 1 Axes>"
            ]
          },
          "metadata": {},
          "output_type": "display_data"
        }
      ],
      "source": [
        "func = Knapsack_0_1()\n",
        "vns(func, [0] * len(func._items), 10)\n",
        "func.trend()"
      ]
    },
    {
      "cell_type": "markdown",
      "metadata": {
        "id": "dzw4lTn9A5MK"
      },
      "source": [
        "# Reduced Variable Neighborhood Search\n",
        "---\n",
        "## Questions:\n",
        "- how does the starting point influence the search process?\n",
        "- how does the kmax parameter affect the quality of the result?\n",
        "- how does the generation of the neighborhood affect:\n",
        "    - quality of the search?\n",
        "    - velocity of the search?\n",
        "- how does RVNS compare to VNS?"
      ]
    },
    {
      "cell_type": "code",
      "execution_count": null,
      "metadata": {
        "id": "jQBZkkzBvR3Z"
      },
      "outputs": [],
      "source": [
        "func = Knapsack_0_1()\n",
        "rvns(func, [0] * len(items), 10)\n",
        "func.trend()"
      ]
    }
  ],
  "metadata": {
    "colab": {
      "collapsed_sections": [],
      "provenance": []
    },
    "kernelspec": {
      "display_name": "Python 3",
      "name": "python3"
    },
    "language_info": {
      "name": "python"
    }
  },
  "nbformat": 4,
  "nbformat_minor": 0
}
