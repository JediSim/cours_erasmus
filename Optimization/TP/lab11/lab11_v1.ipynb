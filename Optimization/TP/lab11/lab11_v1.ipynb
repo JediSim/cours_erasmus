{
  "nbformat": 4,
  "nbformat_minor": 0,
  "metadata": {
    "colab": {
      "provenance": [],
      "collapsed_sections": [
        "1LFQ4RnHpEMu",
        "sW-e_a4IWgGj"
      ]
    },
    "kernelspec": {
      "name": "python3",
      "display_name": "Python 3"
    },
    "language_info": {
      "name": "python"
    }
  },
  "cells": [
    {
      "cell_type": "markdown",
      "source": [
        "# Lab 11: Integer Linear programming and Dinamic Programming \n",
        "In this lab, we will see Integer Linear programming and Dynamic programming (DP). \n",
        "\n",
        "For the Integer Linear Programming, you will proceed as in the previous lab, writing some models and solving the problem. For Dynamic Programming, we will ask you to solve the knapsack problem with DP. "
      ],
      "metadata": {
        "id": "1LFQ4RnHpEMu"
      }
    },
    {
      "cell_type": "code",
      "source": [
        "\n",
        "!pip install -q condacolab\n",
        "import condacolab\n",
        "condacolab.install()\n",
        "!conda install pyscipopt"
      ],
      "metadata": {
        "id": "HbFs_V7eGmL3",
        "colab": {
          "base_uri": "https://localhost:8080/"
        },
        "outputId": "8e4746c8-a921-4888-e1a7-6d38e16a47b9"
      },
      "execution_count": 1,
      "outputs": [
        {
          "output_type": "stream",
          "name": "stdout",
          "text": [
            "\u001b[33mWARNING: Running pip as the 'root' user can result in broken permissions and conflicting behaviour with the system package manager. It is recommended to use a virtual environment instead: https://pip.pypa.io/warnings/venv\u001b[0m\u001b[33m\n",
            "\u001b[0m✨🍰✨ Everything looks OK!\n",
            "Collecting package metadata (current_repodata.json): - \b\b\\ \b\b| \b\b/ \b\b- \b\b\\ \b\b| \b\b/ \b\b- \b\b\\ \b\b| \b\b/ \b\b- \b\b\\ \b\b| \b\b/ \b\b- \b\b\\ \b\b| \b\bdone\n",
            "Solving environment: - \b\b\\ \b\b| \b\b/ \b\b- \b\b\\ \b\b| \b\b/ \b\b- \b\b\\ \b\b| \b\b/ \b\b- \b\b\\ \b\b| \b\b/ \b\b- \b\b\\ \b\b| \b\b/ \b\b- \b\bdone\n",
            "\n",
            "# All requested packages already installed.\n",
            "\n"
          ]
        }
      ]
    },
    {
      "cell_type": "code",
      "source": [
        "!pip install scikit-optimize\n",
        "!pip install treed"
      ],
      "metadata": {
        "id": "AovXN_mMQYQL",
        "colab": {
          "base_uri": "https://localhost:8080/"
        },
        "outputId": "f7cad10d-26a3-434d-e664-19150ba34ea7"
      },
      "execution_count": 2,
      "outputs": [
        {
          "output_type": "stream",
          "name": "stdout",
          "text": [
            "Looking in indexes: https://pypi.org/simple, https://us-python.pkg.dev/colab-wheels/public/simple/\n",
            "Requirement already satisfied: scikit-optimize in /usr/local/lib/python3.8/site-packages (0.9.0)\n",
            "Requirement already satisfied: pyaml>=16.9 in /usr/local/lib/python3.8/site-packages (from scikit-optimize) (21.10.1)\n",
            "Requirement already satisfied: scikit-learn>=0.20.0 in /usr/local/lib/python3.8/site-packages (from scikit-optimize) (1.2.0)\n",
            "Requirement already satisfied: scipy>=0.19.1 in /usr/local/lib/python3.8/site-packages (from scikit-optimize) (1.10.0)\n",
            "Requirement already satisfied: joblib>=0.11 in /usr/local/lib/python3.8/site-packages (from scikit-optimize) (1.2.0)\n",
            "Requirement already satisfied: numpy>=1.13.3 in /usr/local/lib/python3.8/site-packages (from scikit-optimize) (1.24.1)\n",
            "Requirement already satisfied: PyYAML in /usr/local/lib/python3.8/site-packages (from pyaml>=16.9->scikit-optimize) (6.0)\n",
            "Requirement already satisfied: threadpoolctl>=2.0.0 in /usr/local/lib/python3.8/site-packages (from scikit-learn>=0.20.0->scikit-optimize) (3.1.0)\n",
            "\u001b[33mWARNING: Running pip as the 'root' user can result in broken permissions and conflicting behaviour with the system package manager. It is recommended to use a virtual environment instead: https://pip.pypa.io/warnings/venv\u001b[0m\u001b[33m\n",
            "\u001b[0mLooking in indexes: https://pypi.org/simple, https://us-python.pkg.dev/colab-wheels/public/simple/\n",
            "Requirement already satisfied: treed in /usr/local/lib/python3.8/site-packages (2.1.0)\n",
            "Requirement already satisfied: scikit-learn in /usr/local/lib/python3.8/site-packages (from treed) (1.2.0)\n",
            "Requirement already satisfied: pyscipopt in /usr/local/lib/python3.8/site-packages (from treed) (4.2.0)\n",
            "Requirement already satisfied: numpy in /usr/local/lib/python3.8/site-packages (from treed) (1.24.1)\n",
            "Requirement already satisfied: networkx in /usr/local/lib/python3.8/site-packages (from treed) (2.8.8)\n",
            "Requirement already satisfied: pandas in /usr/local/lib/python3.8/site-packages (from treed) (1.5.2)\n",
            "Requirement already satisfied: plotly in /usr/local/lib/python3.8/site-packages (from treed) (5.11.0)\n",
            "Requirement already satisfied: python-dateutil>=2.8.1 in /usr/local/lib/python3.8/site-packages (from pandas->treed) (2.8.2)\n",
            "Requirement already satisfied: pytz>=2020.1 in /usr/local/lib/python3.8/site-packages (from pandas->treed) (2022.7)\n",
            "Requirement already satisfied: tenacity>=6.2.0 in /usr/local/lib/python3.8/site-packages (from plotly->treed) (8.1.0)\n",
            "Requirement already satisfied: wheel in /usr/local/lib/python3.8/site-packages (from pyscipopt->treed) (0.38.4)\n",
            "Requirement already satisfied: scipy>=1.3.2 in /usr/local/lib/python3.8/site-packages (from scikit-learn->treed) (1.10.0)\n",
            "Requirement already satisfied: joblib>=1.1.1 in /usr/local/lib/python3.8/site-packages (from scikit-learn->treed) (1.2.0)\n",
            "Requirement already satisfied: threadpoolctl>=2.0.0 in /usr/local/lib/python3.8/site-packages (from scikit-learn->treed) (3.1.0)\n",
            "Requirement already satisfied: six>=1.5 in /usr/local/lib/python3.8/site-packages (from python-dateutil>=2.8.1->pandas->treed) (1.16.0)\n",
            "\u001b[33mWARNING: Running pip as the 'root' user can result in broken permissions and conflicting behaviour with the system package manager. It is recommended to use a virtual environment instead: https://pip.pypa.io/warnings/venv\u001b[0m\u001b[33m\n",
            "\u001b[0m"
          ]
        }
      ]
    },
    {
      "cell_type": "code",
      "source": [
        "import pyscipopt\n",
        "from pyscipopt import Model , quicksum\n",
        "import seaborn as sns\n",
        "import matplotlib.pyplot as plt\n",
        "import numpy as np\n",
        "from pyscipopt import Model, Eventhdlr, SCIP_EVENTTYPE\n",
        "import math\n",
        "from treed import TreeD\n",
        "\n",
        "class LPstatEventhdlr(Eventhdlr):\n",
        "    \"\"\"PySCIPOpt Event handler to collect data on LP events.\"\"\"\n",
        "\n",
        "    transvars = {}\n",
        "\n",
        "    def collectNodeInfo(self, firstlp=True):\n",
        "        objval = self.model.getSolObjVal(None)\n",
        "\n",
        "        LPsol = {}\n",
        "        if self.transvars == {}:\n",
        "            self.transvars = self.model.getVars(transformed=True)\n",
        "        for var in self.transvars:\n",
        "            solval = self.model.getSolVal(None, var)\n",
        "            LPsol[var.name] = self.model.getSolVal(None, var)\n",
        "\n",
        "        # skip duplicate nodes\n",
        "        # if self.nodelist and LPsol == self.nodelist[-1].get(\"LPsol\"):\n",
        "        #     return\n",
        "        node = self.model.getCurrentNode()\n",
        "        if node.getNumber() != 1:\n",
        "            parentnode = node.getParent()\n",
        "            parent = parentnode.getNumber()\n",
        "        else:\n",
        "            parent = 1\n",
        "        depth = node.getDepth()\n",
        "        age = self.model.getNNodes()\n",
        "        condition = math.log10(self.model.getCondition())\n",
        "        iters = self.model.lpiGetIterations()\n",
        "        pb = self.model.getPrimalbound()\n",
        "        if pb >= self.model.infinity():\n",
        "            pb = None\n",
        "\n",
        "        nodedict = {\n",
        "            \"number\": node.getNumber(),\n",
        "            \"LPsol\": LPsol,\n",
        "            \"objval\": objval,\n",
        "            \"parent\": parent,\n",
        "            \"age\": age,\n",
        "            \"depth\": depth,\n",
        "            \"first\": firstlp,\n",
        "            \"condition\": condition,\n",
        "            \"iterations\": iters,\n",
        "            # \"variables\": self.model.getNVars(),\n",
        "            # \"constraints\": self.model.getNConss(),\n",
        "            \"rows\": self.model.getNLPRows(),\n",
        "            \"primalbound\": pb,\n",
        "            \"dualbound\": self.model.getDualbound(),\n",
        "            \"time\": self.model.getSolvingTime()\n",
        "        }\n",
        "\n",
        "        self.nodelist.append(nodedict)\n",
        "\n",
        "    def eventexec(self, event):\n",
        "        \n",
        "        if event.getType() == SCIP_EVENTTYPE.FIRSTLPSOLVED:\n",
        "            self.collectNodeInfo(firstlp=True)\n",
        "        elif event.getType() == SCIP_EVENTTYPE.LPSOLVED:\n",
        "            self.collectNodeInfo(firstlp=False)\n",
        "        else:\n",
        "            print(\"unexpected event:\" + str(event))\n",
        "        return {}\n",
        "\n",
        "    def eventinit(self):\n",
        "        self.model.catchEvent(SCIP_EVENTTYPE.LPEVENT, self)\n",
        "\n",
        "def convertSolToDict(sol):\n",
        "    ssol = str(sol)\n",
        "    items = ssol[1:-1].split(\",\")\n",
        "    res = {}\n",
        "    for item in items:\n",
        "        k = str(item.split(\":\")[0])\n",
        "        v = float(item.split(\":\")[1])\n",
        "        res[k] = v\n",
        "\n",
        "def solve_model(model):\n",
        "    model.setPresolve(pyscipopt.SCIP_PARAMSETTING.OFF)\n",
        "    model.setHeuristics(pyscipopt.SCIP_PARAMSETTING.OFF)\n",
        "    model.disablePropagation()\n",
        "    #model.redirectOutput()\n",
        "    nodelist = []\n",
        "    eventhdlr = LPstatEventhdlr()\n",
        "    eventhdlr.nodelist = nodelist\n",
        "    model.includeEventhdlr(\n",
        "        eventhdlr, \"LPstat\", \"generate LP statistics after every LP event\"\n",
        "    )\n",
        "    model.optimize()\n",
        "    frontier_history = []\n",
        "    for nd in nodelist:\n",
        "        frontier_history.append((convertSolToDict(nd['LPsol']), nd['objval']))\n",
        "    best_sol = model.getBestSol()\n",
        "    best_val = model.getObjVal()\n",
        "    return convertSolToDict(best_sol), best_val, frontier_history"
      ],
      "metadata": {
        "id": "ekCKO56IKo7B"
      },
      "execution_count": 3,
      "outputs": []
    },
    {
      "cell_type": "markdown",
      "source": [
        "#Ex. 0\n",
        "\n",
        "This is an example to show how the Library works\n",
        "---\n",
        "\n",
        "Slack form:\n",
        "\n",
        "minimize  $2x_1 + x_2 − 2x_3$\n",
        "\n",
        "subject to \n",
        "\n",
        "> $0.7x_1 + 0.5x_2 +x_3 ≥ 1.8$\n",
        "\n",
        "> $x_i ∈ [0,1]\\ ∀ i$\n",
        "\n",
        "\n",
        "\n"
      ],
      "metadata": {
        "id": "9ibF3zoHZhty"
      }
    },
    {
      "cell_type": "code",
      "source": [
        "model = Model(\"\")\n",
        "v = [model.addVar(vtype='i', name=str(i),lb=0,ub=1) for i in range(3)]\n",
        "c = [0.7,0.5,1]\n",
        "model.addCons(quicksum(c[i]*v[i] for i in range(3))>=1.8)\n",
        "model.setObjective(2*v[0]+v[1]-2*v[2], \"minimize\")\n",
        "best_sol, best_val, partial_frontier_history = solve_model(model)"
      ],
      "metadata": {
        "id": "kpN2O0UVZiZd"
      },
      "execution_count": 4,
      "outputs": []
    },
    {
      "cell_type": "markdown",
      "source": [
        "#Ex. The N-queens Problem | ILP\n",
        "\n",
        "The N-queens Problem | ILP\n",
        "The N queens puzzle is the problem of placing N chess queens on an $N×N (𝑁≥4)$ chessboard so that no two queens threaten each other; thus, a solution requires that no two queens share the same row, column, or diagonal. Try different values of $𝑁$ and shows how the problem complexity increases."
      ],
      "metadata": {
        "id": "qt7sD4i35yVu"
      }
    },
    {
      "cell_type": "markdown",
      "source": [
        "```c\n",
        "param n, integer, > 0, default 16;\n",
        "/* size of the chess board */\n",
        "var x{1..n, 1..n}, binary;\n",
        "/* x[i,j] = 1 means that a queen is placed in square [i,j] */\n",
        "s.t. a: sum{i in 1..n} sum{j in 1..n} x[i,j] == n;\n",
        "/*total of n Queens. It's the objective function */\n",
        "s.t. b{i in 1..n}: sum{j in 1..n} x[i,j] <= 1;\n",
        "/* at most one queen can be placed in each row */\n",
        "s.t. c{j in 1..n}: sum{i in 1..n} x[i,j] <= 1;\n",
        "/* at most one queen can be placed in each column */\n",
        "s.t. d{k in 2-n..n-2}: sum{i in 1..n, j in 1..n: i-j == k} x[i,j] <= 1;\n",
        "/* at most one queen can be placed in each \"\\\"-diagonal */\n",
        "s.t. e{k in 3..n+n-1}: sum{i in 1..n, j in 1..n: i+j == k} x[i,j] <= 1;\n",
        "/* at most one queen can be placed in each \"/\"-diagonal */\n",
        "/* solve the problem */\n",
        "```"
      ],
      "metadata": {
        "id": "MAnSI3EJ4VYl"
      }
    },
    {
      "cell_type": "code",
      "source": [
        "n = 4\n",
        "model = Model(\"\")\n",
        "v = [model.addVar(vtype='i',name=str(i), lb=0, ub=1) for i in range(3)]\n",
        "c = [1,1,1]\n",
        "model.addCons(quicksum(c[i]*v[i] for i in range(3)) == 1)\n",
        "model.setObjective(quicksum(v[i][j] for i in range(n) for j in range(n)), \"minimize\")\n",
        "best_sol, best_val, partial_frontier_history = solve_model(model)"
      ],
      "metadata": {
        "colab": {
          "base_uri": "https://localhost:8080/",
          "height": 464
        },
        "id": "vV-BOzH8zm9z",
        "outputId": "293ffde2-1c6c-4311-c4d7-44fa445089f1"
      },
      "execution_count": 7,
      "outputs": [
        {
          "output_type": "error",
          "ename": "AttributeError",
          "evalue": "ignored",
          "traceback": [
            "\u001b[0;31m---------------------------------------------------------------------------\u001b[0m",
            "\u001b[0;31mAttributeError\u001b[0m                            Traceback (most recent call last)",
            "\u001b[0;32m<ipython-input-7-cc82240bde5d>\u001b[0m in \u001b[0;36m<module>\u001b[0;34m\u001b[0m\n\u001b[1;32m      4\u001b[0m \u001b[0mc\u001b[0m \u001b[0;34m=\u001b[0m \u001b[0;34m[\u001b[0m\u001b[0;36m1\u001b[0m\u001b[0;34m,\u001b[0m\u001b[0;36m1\u001b[0m\u001b[0;34m,\u001b[0m\u001b[0;36m1\u001b[0m\u001b[0;34m]\u001b[0m\u001b[0;34m\u001b[0m\u001b[0;34m\u001b[0m\u001b[0m\n\u001b[1;32m      5\u001b[0m \u001b[0mmodel\u001b[0m\u001b[0;34m.\u001b[0m\u001b[0maddCons\u001b[0m\u001b[0;34m(\u001b[0m\u001b[0mquicksum\u001b[0m\u001b[0;34m(\u001b[0m\u001b[0mc\u001b[0m\u001b[0;34m[\u001b[0m\u001b[0mi\u001b[0m\u001b[0;34m]\u001b[0m\u001b[0;34m*\u001b[0m\u001b[0mv\u001b[0m\u001b[0;34m[\u001b[0m\u001b[0mi\u001b[0m\u001b[0;34m]\u001b[0m \u001b[0;32mfor\u001b[0m \u001b[0mi\u001b[0m \u001b[0;32min\u001b[0m \u001b[0mrange\u001b[0m\u001b[0;34m(\u001b[0m\u001b[0;36m3\u001b[0m\u001b[0;34m)\u001b[0m\u001b[0;34m)\u001b[0m \u001b[0;34m==\u001b[0m \u001b[0;36m1\u001b[0m\u001b[0;34m)\u001b[0m\u001b[0;34m\u001b[0m\u001b[0;34m\u001b[0m\u001b[0m\n\u001b[0;32m----> 6\u001b[0;31m \u001b[0mmodel\u001b[0m\u001b[0;34m.\u001b[0m\u001b[0msetObjective\u001b[0m\u001b[0;34m(\u001b[0m\u001b[0mquicksum\u001b[0m\u001b[0;34m(\u001b[0m\u001b[0mv\u001b[0m\u001b[0;34m[\u001b[0m\u001b[0mi\u001b[0m\u001b[0;34m]\u001b[0m\u001b[0;34m[\u001b[0m\u001b[0mj\u001b[0m\u001b[0;34m]\u001b[0m \u001b[0;32mfor\u001b[0m \u001b[0mi\u001b[0m \u001b[0;32min\u001b[0m \u001b[0mrange\u001b[0m\u001b[0;34m(\u001b[0m\u001b[0mn\u001b[0m\u001b[0;34m)\u001b[0m \u001b[0;32mfor\u001b[0m \u001b[0mj\u001b[0m \u001b[0;32min\u001b[0m \u001b[0mrange\u001b[0m\u001b[0;34m(\u001b[0m\u001b[0mn\u001b[0m\u001b[0;34m)\u001b[0m\u001b[0;34m)\u001b[0m\u001b[0;34m,\u001b[0m \u001b[0;34m\"minimize\"\u001b[0m\u001b[0;34m)\u001b[0m\u001b[0;34m\u001b[0m\u001b[0;34m\u001b[0m\u001b[0m\n\u001b[0m\u001b[1;32m      7\u001b[0m \u001b[0mbest_sol\u001b[0m\u001b[0;34m,\u001b[0m \u001b[0mbest_val\u001b[0m\u001b[0;34m,\u001b[0m \u001b[0mpartial_frontier_history\u001b[0m \u001b[0;34m=\u001b[0m \u001b[0msolve_model\u001b[0m\u001b[0;34m(\u001b[0m\u001b[0mmodel\u001b[0m\u001b[0;34m)\u001b[0m\u001b[0;34m\u001b[0m\u001b[0;34m\u001b[0m\u001b[0m\n",
            "\u001b[0;32msrc/pyscipopt/expr.pxi\u001b[0m in \u001b[0;36mpyscipopt.scip.quicksum\u001b[0;34m()\u001b[0m\n",
            "\u001b[0;32m<ipython-input-7-cc82240bde5d>\u001b[0m in \u001b[0;36m<genexpr>\u001b[0;34m(.0)\u001b[0m\n\u001b[1;32m      4\u001b[0m \u001b[0mc\u001b[0m \u001b[0;34m=\u001b[0m \u001b[0;34m[\u001b[0m\u001b[0;36m1\u001b[0m\u001b[0;34m,\u001b[0m\u001b[0;36m1\u001b[0m\u001b[0;34m,\u001b[0m\u001b[0;36m1\u001b[0m\u001b[0;34m]\u001b[0m\u001b[0;34m\u001b[0m\u001b[0;34m\u001b[0m\u001b[0m\n\u001b[1;32m      5\u001b[0m \u001b[0mmodel\u001b[0m\u001b[0;34m.\u001b[0m\u001b[0maddCons\u001b[0m\u001b[0;34m(\u001b[0m\u001b[0mquicksum\u001b[0m\u001b[0;34m(\u001b[0m\u001b[0mc\u001b[0m\u001b[0;34m[\u001b[0m\u001b[0mi\u001b[0m\u001b[0;34m]\u001b[0m\u001b[0;34m*\u001b[0m\u001b[0mv\u001b[0m\u001b[0;34m[\u001b[0m\u001b[0mi\u001b[0m\u001b[0;34m]\u001b[0m \u001b[0;32mfor\u001b[0m \u001b[0mi\u001b[0m \u001b[0;32min\u001b[0m \u001b[0mrange\u001b[0m\u001b[0;34m(\u001b[0m\u001b[0;36m3\u001b[0m\u001b[0;34m)\u001b[0m\u001b[0;34m)\u001b[0m \u001b[0;34m==\u001b[0m \u001b[0;36m1\u001b[0m\u001b[0;34m)\u001b[0m\u001b[0;34m\u001b[0m\u001b[0;34m\u001b[0m\u001b[0m\n\u001b[0;32m----> 6\u001b[0;31m \u001b[0mmodel\u001b[0m\u001b[0;34m.\u001b[0m\u001b[0msetObjective\u001b[0m\u001b[0;34m(\u001b[0m\u001b[0mquicksum\u001b[0m\u001b[0;34m(\u001b[0m\u001b[0mv\u001b[0m\u001b[0;34m[\u001b[0m\u001b[0mi\u001b[0m\u001b[0;34m]\u001b[0m\u001b[0;34m[\u001b[0m\u001b[0mj\u001b[0m\u001b[0;34m]\u001b[0m \u001b[0;32mfor\u001b[0m \u001b[0mi\u001b[0m \u001b[0;32min\u001b[0m \u001b[0mrange\u001b[0m\u001b[0;34m(\u001b[0m\u001b[0mn\u001b[0m\u001b[0;34m)\u001b[0m \u001b[0;32mfor\u001b[0m \u001b[0mj\u001b[0m \u001b[0;32min\u001b[0m \u001b[0mrange\u001b[0m\u001b[0;34m(\u001b[0m\u001b[0mn\u001b[0m\u001b[0;34m)\u001b[0m\u001b[0;34m)\u001b[0m\u001b[0;34m,\u001b[0m \u001b[0;34m\"minimize\"\u001b[0m\u001b[0;34m)\u001b[0m\u001b[0;34m\u001b[0m\u001b[0;34m\u001b[0m\u001b[0m\n\u001b[0m\u001b[1;32m      7\u001b[0m \u001b[0mbest_sol\u001b[0m\u001b[0;34m,\u001b[0m \u001b[0mbest_val\u001b[0m\u001b[0;34m,\u001b[0m \u001b[0mpartial_frontier_history\u001b[0m \u001b[0;34m=\u001b[0m \u001b[0msolve_model\u001b[0m\u001b[0;34m(\u001b[0m\u001b[0mmodel\u001b[0m\u001b[0;34m)\u001b[0m\u001b[0;34m\u001b[0m\u001b[0;34m\u001b[0m\u001b[0m\n",
            "\u001b[0;32msrc/pyscipopt/expr.pxi\u001b[0m in \u001b[0;36mpyscipopt.scip.Expr.__getitem__\u001b[0;34m()\u001b[0m\n",
            "\u001b[0;32msrc/pyscipopt/expr.pxi\u001b[0m in \u001b[0;36mpyscipopt.scip.Term.__init__.lambda\u001b[0;34m()\u001b[0m\n",
            "\u001b[0;32msrc/pyscipopt/expr.pxi\u001b[0m in \u001b[0;36mpyscipopt.scip.Term.__init__.lambda\u001b[0;34m()\u001b[0m\n",
            "\u001b[0;31mAttributeError\u001b[0m: 'int' object has no attribute 'ptr'"
          ]
        }
      ]
    },
    {
      "cell_type": "markdown",
      "source": [
        "# Traveling salesman problem | ILP\n",
        "The goal of the TSP is to find the shortest Hamiltonian cycle (a cycle that visits each node only once) on a graph of N nodes. Solve the ILP problem and visualize a solution."
      ],
      "metadata": {
        "id": "IW3z1UkyRuyG"
      }
    },
    {
      "cell_type": "markdown",
      "source": [
        "$$\n",
        "minimize\\\\\n",
        "\\sum_{i=1}^{n}\\sum_{j=1}^{n} x_{ij}c_{ij}\\\\\n",
        "subject\\ to \\\\\n",
        "\\sum_{1 \\leq i \\leq n\\\\ i \\neq j} x_{ij} = 1\n",
        "\\sum_{1 \\leq k \\leq n\\\\ k \\neq j} x_{jk} = 1\n",
        "$$\n",
        "\n",
        "for each sum in the constraint it's for each $j = 1,2,...,n$ "
      ],
      "metadata": {
        "id": "8uuDetQJ5e7L"
      }
    },
    {
      "cell_type": "markdown",
      "source": [
        "#Ex. KNAPSACK PROBLEM / DP\n",
        "Solve the Knapsack problem using DP.  You can use the Class from lab 5.\n",
        "\n",
        "Run the solution multiple time, and change the total capacity and the number of objects and shows how the number of subproblems changes.\n"
      ],
      "metadata": {
        "id": "sW-e_a4IWgGj"
      }
    },
    {
      "cell_type": "code",
      "source": [
        "import numpy as np\n",
        "from matplotlib import pyplot as plt\n",
        "\n",
        "class Knapsack_0_1:\n",
        "    \n",
        "    def __init__(self):\n",
        "        self._items = [\n",
        "                        []   \n",
        "        ]\n",
        "        self._BAG_CAPACITY = 10\n",
        "        self.history = []\n",
        "        self.values = []\n",
        "\n",
        "    def _get_value(self, solution):\n",
        "        cur_cap = self._BAG_CAPACITY\n",
        "        cur_val = 0\n",
        "        for i, v in enumerate(solution):\n",
        "            if v == 1:\n",
        "                cur_val += self._items[i]['value']\n",
        "                cur_cap -= self._items[i]['volume']\n",
        "            if cur_cap < 0:\n",
        "                return 0\n",
        "        return -cur_val\n",
        "\n",
        "    def __call__(self, solution):\n",
        "        value = self._get_value(solution)\n",
        "        self.history.append(solution)\n",
        "        self.values.append(value)\n",
        "        return value\n",
        "    \n",
        "    def trend(self):\n",
        "        plt.figure()\n",
        "        plt.plot(self.values)\n",
        "        plt.show()\n"
      ],
      "metadata": {
        "id": "7cg3YZiLxVWw"
      },
      "execution_count": 8,
      "outputs": []
    },
    {
      "cell_type": "code",
      "source": [],
      "metadata": {
        "id": "tQReTYF_-mzj"
      },
      "execution_count": null,
      "outputs": []
    }
  ]
}