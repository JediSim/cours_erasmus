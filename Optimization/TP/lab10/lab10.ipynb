{
  "cells": [
    {
      "cell_type": "markdown",
      "metadata": {
        "id": "1LFQ4RnHpEMu"
      },
      "source": [
        "# Lab 10: Linear programming\n",
        "In this lab, we will use Linear programming to solve some problems.\n",
        "Differently from the previous lab, in this one, you will not ask to implement some part of the linear programming paradigm. Instead, you will ask to translate the problems from the \"natural\" language to the standard (slack) form.\n",
        "Moreover, for exercises 1 and 2 consider plotting the solution space and highlighting the different components. \n",
        "\n",
        "In the following (hidden) block, the utilities used for running the experiments are implemented."
      ]
    },
    {
      "cell_type": "code",
      "execution_count": 1,
      "metadata": {
        "id": "HbFs_V7eGmL3"
      },
      "outputs": [
        {
          "name": "stdout",
          "output_type": "stream",
          "text": [
            "Defaulting to user installation because normal site-packages is not writeable\n",
            "Collecting scikit-optimize\n",
            "  Downloading scikit_optimize-0.9.0-py2.py3-none-any.whl (100 kB)\n",
            "\u001b[2K     \u001b[90m━━━━━━━━━━━━━━━━━━━━━━━━━━━━━━━━━━━━━\u001b[0m \u001b[32m100.3/100.3 kB\u001b[0m \u001b[31m246.7 kB/s\u001b[0m eta \u001b[36m0:00:00\u001b[0ma \u001b[36m0:00:01\u001b[0m\n",
            "\u001b[?25hCollecting scipy>=0.19.1\n",
            "  Downloading scipy-1.9.3-cp310-cp310-manylinux_2_17_x86_64.manylinux2014_x86_64.whl (33.7 MB)\n",
            "\u001b[2K     \u001b[90m━━━━━━━━━━━━━━━━━━━━━━━━━━━━━━━━━━━━━━━\u001b[0m \u001b[32m33.7/33.7 MB\u001b[0m \u001b[31m249.9 kB/s\u001b[0m eta \u001b[36m0:00:00\u001b[0m00:01\u001b[0m00:04\u001b[0m\n",
            "\u001b[?25hCollecting pyaml>=16.9\n",
            "  Downloading pyaml-21.10.1-py2.py3-none-any.whl (24 kB)\n",
            "Collecting numpy>=1.13.3\n",
            "  Downloading numpy-1.23.5-cp310-cp310-manylinux_2_17_x86_64.manylinux2014_x86_64.whl (17.1 MB)\n",
            "\u001b[2K     \u001b[90m━━━━━━━━━━━━━━━━━━━━━━━━━━━━━━━━━━━━━━━\u001b[0m \u001b[32m17.1/17.1 MB\u001b[0m \u001b[31m251.9 kB/s\u001b[0m eta \u001b[36m0:00:00\u001b[0m00:01\u001b[0m00:02\u001b[0m\n",
            "\u001b[?25hCollecting scikit-learn>=0.20.0\n",
            "  Downloading scikit_learn-1.1.3-cp310-cp310-manylinux_2_17_x86_64.manylinux2014_x86_64.whl (30.5 MB)\n",
            "\u001b[2K     \u001b[90m━━━━━━━━━━━━━━━━━━━━━━━━━━━━━━━━━━━━━━━\u001b[0m \u001b[32m30.5/30.5 MB\u001b[0m \u001b[31m251.6 kB/s\u001b[0m eta \u001b[36m0:00:00\u001b[0m00:01\u001b[0m00:04\u001b[0m\n",
            "\u001b[?25hCollecting joblib>=0.11\n",
            "  Downloading joblib-1.2.0-py3-none-any.whl (297 kB)\n",
            "\u001b[2K     \u001b[90m━━━━━━━━━━━━━━━━━━━━━━━━━━━━━━━━━━━━━\u001b[0m \u001b[32m298.0/298.0 kB\u001b[0m \u001b[31m258.1 kB/s\u001b[0m eta \u001b[36m0:00:00\u001b[0ma \u001b[36m0:00:01\u001b[0m\n",
            "\u001b[?25hRequirement already satisfied: PyYAML in /usr/lib/python3.10/site-packages (from pyaml>=16.9->scikit-optimize) (6.0)\n",
            "Collecting threadpoolctl>=2.0.0\n",
            "  Downloading threadpoolctl-3.1.0-py3-none-any.whl (14 kB)\n",
            "Installing collected packages: threadpoolctl, pyaml, numpy, joblib, scipy, scikit-learn, scikit-optimize\n",
            "Successfully installed joblib-1.2.0 numpy-1.23.5 pyaml-21.10.1 scikit-learn-1.1.3 scikit-optimize-0.9.0 scipy-1.9.3 threadpoolctl-3.1.0\n"
          ]
        }
      ],
      "source": [
        "!pip install scikit-optimize"
      ]
    },
    {
      "cell_type": "markdown",
      "metadata": {
        "id": "9ibF3zoHZhty"
      },
      "source": [
        "#Ex. 0\n",
        "\n",
        "A large factory makes tables and chairs. Each table returns a profit of 200 EUR and each chair a\n",
        "profit of 100 EUR. Each table takes 1 unit of metal and 3 units of wood and each chair takes 2 units\n",
        "of metal and 1 unit of wood. The factory has 600 units of metal and 900 units of wood.\n",
        "\n",
        "\n",
        "---\n",
        "\n",
        "Slack form:\n",
        "\n",
        "maximize  $2x_1 + x_2$\n",
        "\n",
        "subject to \n",
        "\n",
        "> $3x_1 + x_2 ≤ 9$\n",
        "\n",
        "> $x_1 + 2x_2 ≤ 6$\n",
        "\n",
        "> $x_1, x_2 ≥ 0$\n",
        "\n",
        "\n"
      ]
    },
    {
      "cell_type": "code",
      "execution_count": 2,
      "metadata": {
        "id": "kpN2O0UVZiZd"
      },
      "outputs": [
        {
          "name": "stdout",
          "output_type": "stream",
          "text": [
            "     con: array([], dtype=float64)\n",
            "     fun: -6.6000000000000005\n",
            " message: 'Optimization terminated successfully.'\n",
            "     nit: 2\n",
            "   slack: array([0., 0.])\n",
            "  status: 0\n",
            " success: True\n",
            "       x: array([2.4, 1.8])\n"
          ]
        },
        {
          "name": "stderr",
          "output_type": "stream",
          "text": [
            "/tmp/ipykernel_2527/2591637402.py:6: DeprecationWarning: `method='simplex'` is deprecated and will be removed in SciPy 1.11.0. Please use one of the HiGHS solvers (e.g. `method='highs'`) in new code.\n",
            "  print(linprog(-c, A_ub=G, b_ub=h, bounds=[(0,None),(0,None)], method= 'simplex'))\n"
          ]
        }
      ],
      "source": [
        "from scipy.optimize import linprog\n",
        "import numpy as np\n",
        "c = np.array([2, 1])\n",
        "G = np.array([[3, 1], [1, 2]])\n",
        "h = np.array([9,6])\n",
        "print(linprog(-c, A_ub=G, b_ub=h, bounds=[(0,None),(0,None)], method= 'simplex'))"
      ]
    },
    {
      "cell_type": "markdown",
      "metadata": {
        "id": "qt7sD4i35yVu"
      },
      "source": [
        "#Ex. 1\n",
        "A company makes two products (X and Y) using two machines (A and B). Each unit of X that is produced requires 50 minutes processing time on machine A and 30 minutes processing time on machine B. Each unit of Y that is produced requires 24 minutes processing time on machine A and 33 minutes processing time on machine B.\n",
        "\n",
        "At the start of the current week there are 30 units of X and 90 units of Y in stock. Available processing time on machine A is forecast to be 40 hours and on machine B is forecast to be 35 hours.\n",
        "\n",
        "The demand for X in the current week is forecast to be 75 units and for Y is forecast to be 95 units. Company policy is to maximise the combined sum of the units of X and the units of Y in stock at the end of the week.\n"
      ]
    },
    {
      "cell_type": "code",
      "execution_count": 16,
      "metadata": {},
      "outputs": [
        {
          "name": "stdout",
          "output_type": "stream",
          "text": [
            "     con: array([], dtype=float64)\n",
            "     fun: -2077.0\n",
            " message: 'Optimization terminated successfully.'\n",
            "     nit: 4\n",
            "   slack: array([  0., 567.])\n",
            "  status: 0\n",
            " success: True\n",
            "       x: array([45.6,  5. ])\n"
          ]
        },
        {
          "name": "stderr",
          "output_type": "stream",
          "text": [
            "/tmp/ipykernel_2527/1220210349.py:6: DeprecationWarning: `method='simplex'` is deprecated and will be removed in SciPy 1.11.0. Please use one of the HiGHS solvers (e.g. `method='highs'`) in new code.\n",
            "  print(linprog(-c, A_ub=G, b_ub=h, bounds=[(45,None),(5,None)], method= 'simplex'))\n"
          ]
        }
      ],
      "source": [
        "from scipy.optimize import linprog\n",
        "import numpy as np\n",
        "c = np.array([45, 5])\n",
        "G = np.array([[50, 24], [30, 33]])\n",
        "h = np.array([2400,2100])\n",
        "print(linprog(-c, A_ub=G, b_ub=h, bounds=[(45,None),(5,None)], method= 'simplex'))"
      ]
    },
    {
      "cell_type": "markdown",
      "metadata": {
        "id": "sW-e_a4IWgGj"
      },
      "source": [
        "#Ex. 2\n",
        "A factory manufactures chairs and tables, each requiring the use of three operations: Cutting, Assembly, and Finishing. The first operation can be used at most 40 hours; the second at most 42 hours; and the third at most 25 hours. A chair requires 1 hour of cutting, 2 hours of assembly, and 1 hour of finishing; a table needs 2 hours of cutting, 1 hour of assembly, and 1 hour of finishing. If the profit is 20 per unit for a chair and 30 for a table, how many units of each should be manufactured to maximize profit?\n"
      ]
    },
    {
      "cell_type": "code",
      "execution_count": 18,
      "metadata": {},
      "outputs": [
        {
          "name": "stdout",
          "output_type": "stream",
          "text": [
            "     con: array([], dtype=float64)\n",
            "     fun: -650.0\n",
            " message: 'Optimization terminated successfully.'\n",
            "     nit: 4\n",
            "   slack: array([0., 7., 0.])\n",
            "  status: 0\n",
            " success: True\n",
            "       x: array([10., 15.])\n"
          ]
        },
        {
          "name": "stderr",
          "output_type": "stream",
          "text": [
            "/tmp/ipykernel_2527/3224080897.py:6: DeprecationWarning: `method='simplex'` is deprecated and will be removed in SciPy 1.11.0. Please use one of the HiGHS solvers (e.g. `method='highs'`) in new code.\n",
            "  print(linprog(-c, A_ub=G, b_ub=h, bounds=[(0,None),(0,None)], method= 'simplex'))\n"
          ]
        }
      ],
      "source": [
        "from scipy.optimize import linprog\n",
        "import numpy as np\n",
        "c = np.array([20, 30])\n",
        "G = np.array([[1, 2], [2, 1], [1,1]])\n",
        "h = np.array([40,42,25])\n",
        "print(linprog(-c, A_ub=G, b_ub=h, bounds=[(0,None),(0,None)], method= 'simplex'))"
      ]
    },
    {
      "cell_type": "markdown",
      "metadata": {
        "id": "MrUONKQLfyYu"
      },
      "source": [
        "#Ex. 3\n",
        "We now consider a problem posed and solved by [Hu18].\n",
        "\n",
        "A mutual fund has $100000$ to be invested over a three year horizon.\n",
        "\n",
        "Three investment options are available:\n",
        "\n",
        "Annuity: the fund can pay a same amount of new capital at the beginning of each of three years and receive a payoff of 130% of total capital invested at the end of the third year. Once the mutual fund decides to invest in this annuity, it has to keep investing in all subsequent years in the three year horizon.\n",
        "\n",
        "Bank account: the fund can deposit any amount into a bank at the beginning of each year and receive its capital plus 6% interest at the end of that year. In addition, the mutual fund is permitted to borrow no more than $20,000 at the beginning of each year and is asked to pay back the amount borrowed plus 6% interest at the end of the year. The mutual fund can choose whether to deposit or borrow at the beginning of each year.\n",
        "\n",
        "Corporate bond: At the beginning of the second year, a corporate bond becomes available. The fund can buy an amount that is no more than $50,000 of this bond at the beginning of the second year and at the end of the third year receive a payout of 130% of the amount invested in the bond.\n",
        "\n",
        "The mutual fund’s objective is to maximize total payout that it owns at the end of the third year.\n",
        "\n",
        "- Hu18 Y. Hu, Y. & Guo. Operations research. Tsinghua University Press, 5th edition, 2018."
      ]
    },
    {
      "cell_type": "code",
      "execution_count": 23,
      "metadata": {},
      "outputs": [
        {
          "name": "stdout",
          "output_type": "stream",
          "text": [
            "     con: array([], dtype=float64)\n",
            "     fun: -141018.24349792692\n",
            " message: 'Optimization terminated successfully.'\n",
            "     nit: 5\n",
            "   slack: array([ 1.45519152e-11, -2.18278728e-11,  0.00000000e+00])\n",
            "  status: 0\n",
            " success: True\n",
            "       x: array([ 24927.75474306,  75072.24525694,   4648.8252293 , -20000.        ,\n",
            "        50000.        ])\n"
          ]
        },
        {
          "name": "stderr",
          "output_type": "stream",
          "text": [
            "/tmp/ipykernel_2527/599365680.py:9: DeprecationWarning: `method='simplex'` is deprecated and will be removed in SciPy 1.11.0. Please use one of the HiGHS solvers (e.g. `method='highs'`) in new code.\n",
            "  print(linprog(-c, A_ub=G, b_ub=h, bounds=[  (0,None),\n"
          ]
        }
      ],
      "source": [
        "from scipy.optimize import linprog\n",
        "import numpy as np\n",
        "\n",
        "c = np.array([1.30*3, 0, 0, 1.06, 1.30])\n",
        "G = np.array([  [1, 1, 0, 0, 0],\n",
        "                [1, -1.06, 1, 0, 1], \n",
        "                [1, 0, -1.06, 1, 0]])\n",
        "h = np.array([100000,0 ,0])\n",
        "print(linprog(-c, A_ub=G, b_ub=h, bounds=[  (0,None),\n",
        "                                            (-20000,None),\n",
        "                                            (-20000,None),\n",
        "                                            (-20000,None),\n",
        "                                            (0,50000)],\n",
        "                                             method='simplex'))"
      ]
    },
    {
      "cell_type": "markdown",
      "metadata": {
        "id": "XVKfUe33f5NE"
      },
      "source": []
    }
  ],
  "metadata": {
    "colab": {
      "provenance": []
    },
    "kernelspec": {
      "display_name": "Python 3.10.8 64-bit",
      "language": "python",
      "name": "python3"
    },
    "language_info": {
      "codemirror_mode": {
        "name": "ipython",
        "version": 3
      },
      "file_extension": ".py",
      "mimetype": "text/x-python",
      "name": "python",
      "nbconvert_exporter": "python",
      "pygments_lexer": "ipython3",
      "version": "3.10.8"
    },
    "vscode": {
      "interpreter": {
        "hash": "e7370f93d1d0cde622a1f8e1c04877d8463912d04d973331ad4851f04de6915a"
      }
    }
  },
  "nbformat": 4,
  "nbformat_minor": 0
}
